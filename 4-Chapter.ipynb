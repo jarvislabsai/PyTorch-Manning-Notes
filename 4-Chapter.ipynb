{
 "cells": [
  {
   "cell_type": "markdown",
   "id": "8bb41dd8-11c1-40c5-a8fd-396743d73769",
   "metadata": {},
   "source": [
    "# Real world data representation using Tensors"
   ]
  },
  {
   "cell_type": "markdown",
   "id": "ad2c94fb-ef72-4d3f-9951-89b6d7eb56af",
   "metadata": {},
   "source": [
    "### Goal of the chapter\n",
    "\n",
    "How to prepare data pipelines for different scenarious like\n",
    "- Image\n",
    "- Tabular\n",
    "- Text"
   ]
  },
  {
   "cell_type": "markdown",
   "id": "4a5cd2cd-4574-44c9-b737-aa6a28663295",
   "metadata": {},
   "source": [
    "## Working with images\n",
    "- Images are collection of numbers arranged in height * width\n",
    "- Each number represents the value of a pixel\n",
    "- Consumer cameras represent pixels in 8-bit integer, medical may use 12/16 bit integer.\n",
    "- Formats like RGB are used for representing color images."
   ]
  },
  {
   "cell_type": "markdown",
   "id": "0eb01837-b528-4753-8d3c-809175c82ba1",
   "metadata": {},
   "source": [
    "### Loading an Image"
   ]
  },
  {
   "cell_type": "code",
   "execution_count": 1,
   "id": "05de338a-9e85-40c8-aa7c-a5006f785218",
   "metadata": {},
   "outputs": [],
   "source": [
    "import imageio"
   ]
  },
  {
   "cell_type": "code",
   "execution_count": 3,
   "id": "14b1ca23-95ff-436b-93c8-da5043a26e0d",
   "metadata": {},
   "outputs": [],
   "source": [
    "img = imageio.imread('imgs/bobby.jpeg')"
   ]
  },
  {
   "cell_type": "code",
   "execution_count": 6,
   "id": "30693faf-5d40-40d4-be99-803d80dfa883",
   "metadata": {},
   "outputs": [
    {
     "data": {
      "text/plain": [
       "(720, 1280, 3)"
      ]
     },
     "execution_count": 6,
     "metadata": {},
     "output_type": "execute_result"
    }
   ],
   "source": [
    "img.shape"
   ]
  },
  {
   "cell_type": "markdown",
   "id": "abfc7bce-641b-461f-bd5c-96ae59cea505",
   "metadata": {},
   "source": [
    "The image is represented in H*W*C, in PyTorch we represent it in C*H*W\n",
    "- Lets convert the layout to PyTorch style\n",
    "- Lets also look at how to create a batch of images"
   ]
  },
  {
   "cell_type": "code",
   "execution_count": 55,
   "id": "c3293b67-5b69-4b90-b422-2b634283114c",
   "metadata": {},
   "outputs": [],
   "source": [
    "from pathlib import Path\n",
    "import torch\n",
    "import torch.nn.functional as F\n",
    "from PIL import Image\n",
    "import numpy as np"
   ]
  },
  {
   "cell_type": "code",
   "execution_count": 18,
   "id": "e878e312-af25-4a06-98d7-bf8a6f238508",
   "metadata": {},
   "outputs": [],
   "source": [
    "im_array = imageio.imread(file)"
   ]
  },
  {
   "cell_type": "code",
   "execution_count": 81,
   "id": "b5d0172e-72c4-4da7-99f2-63668d2b86da",
   "metadata": {},
   "outputs": [],
   "source": [
    "path = Path('/home/.fastai/data/oxford-iiit-pet/images')"
   ]
  },
  {
   "cell_type": "code",
   "execution_count": 87,
   "id": "1437a894-65f9-43a2-8e4b-1c11c2f6fbae",
   "metadata": {},
   "outputs": [],
   "source": [
    "images = torch.zeros(4,3,224,224,dtype=torch.uint8)\n",
    "\n",
    "for i, file in enumerate(list(path.iterdir())[:4]):\n",
    "    img = Image.open(file)\n",
    "    img = img.resize((224,224))\n",
    "    t_img = torch.from_numpy(np.array(img))\n",
    "    images[i] = t_img.permute(2,0,1)"
   ]
  },
  {
   "cell_type": "code",
   "execution_count": 88,
   "id": "34c8b4ff-e6af-4492-9b90-dd21d0785edc",
   "metadata": {},
   "outputs": [
    {
     "data": {
      "text/plain": [
       "torch.Size([4, 3, 224, 224])"
      ]
     },
     "execution_count": 88,
     "metadata": {},
     "output_type": "execute_result"
    }
   ],
   "source": [
    "images.shape"
   ]
  },
  {
   "cell_type": "markdown",
   "id": "b8c5f04f-75d0-413f-ac08-04f1b9672dc9",
   "metadata": {},
   "source": [
    "The book uses a different library, but illustrates the same concept."
   ]
  },
  {
   "cell_type": "markdown",
   "id": "084b04d8-cbf0-42c3-8b87-24208e9ede38",
   "metadata": {},
   "source": [
    "There are 2 ways to Normalize the data\n",
    "- Divide by 255\n",
    "- Subtract with mean and divide by std for each channel"
   ]
  },
  {
   "cell_type": "code",
   "execution_count": 89,
   "id": "d0d6e548-fac0-4d0b-8cd6-ca1f7752c354",
   "metadata": {},
   "outputs": [],
   "source": [
    "images = images.float()\n",
    "images /= 255\n"
   ]
  },
  {
   "cell_type": "code",
   "execution_count": 90,
   "id": "35663dbb-482d-4362-b458-225a6fa6496c",
   "metadata": {},
   "outputs": [
    {
     "data": {
      "text/plain": [
       "(tensor(0.), tensor(0.9843))"
      ]
     },
     "execution_count": 90,
     "metadata": {},
     "output_type": "execute_result"
    }
   ],
   "source": [
    "images.min(), images.max()"
   ]
  },
  {
   "cell_type": "code",
   "execution_count": 91,
   "id": "6424cf44-1bb3-43db-aa60-eacbcb9d6bd3",
   "metadata": {},
   "outputs": [],
   "source": [
    "for ch in range(3):\n",
    "    mean = images[:,ch].mean()\n",
    "    std = images[:,ch].std()\n",
    "    images[:,ch] = (images[:,ch]-mean)/std\n",
    "    "
   ]
  },
  {
   "cell_type": "markdown",
   "id": "fdd0ab6d-ac7d-4e9c-b129-fb927b2377dc",
   "metadata": {},
   "source": [
    "## Representing Tabular table"
   ]
  },
  {
   "cell_type": "code",
   "execution_count": 98,
   "id": "5b40df27-04f2-448d-9de9-8fd5d1e7c47c",
   "metadata": {},
   "outputs": [],
   "source": [
    "import pandas as pd"
   ]
  },
  {
   "cell_type": "code",
   "execution_count": 96,
   "id": "5d450695-471a-49ef-a11d-6a39aebaabf5",
   "metadata": {},
   "outputs": [],
   "source": [
    "wineq_numpy = np.loadtxt('winequality-white.csv', dtype=np.float32, delimiter=\";\",\n",
    "skiprows=1)"
   ]
  },
  {
   "cell_type": "code",
   "execution_count": 97,
   "id": "c000495e-dfb0-4a93-ac6a-d03b6fd08100",
   "metadata": {},
   "outputs": [
    {
     "data": {
      "text/plain": [
       "array([[ 7.  ,  0.27,  0.36, ...,  0.45,  8.8 ,  6.  ],\n",
       "       [ 6.3 ,  0.3 ,  0.34, ...,  0.49,  9.5 ,  6.  ],\n",
       "       [ 8.1 ,  0.28,  0.4 , ...,  0.44, 10.1 ,  6.  ],\n",
       "       ...,\n",
       "       [ 6.5 ,  0.24,  0.19, ...,  0.46,  9.4 ,  6.  ],\n",
       "       [ 5.5 ,  0.29,  0.3 , ...,  0.38, 12.8 ,  7.  ],\n",
       "       [ 6.  ,  0.21,  0.38, ...,  0.32, 11.8 ,  6.  ]], dtype=float32)"
      ]
     },
     "execution_count": 97,
     "metadata": {},
     "output_type": "execute_result"
    }
   ],
   "source": [
    "wineq_numpy"
   ]
  },
  {
   "cell_type": "code",
   "execution_count": 101,
   "id": "a44d6bdf-090a-4055-a950-58ca6d557abc",
   "metadata": {},
   "outputs": [],
   "source": [
    "df = pd.read_csv('winequality-white.csv',delimiter=';')"
   ]
  },
  {
   "cell_type": "code",
   "execution_count": 102,
   "id": "d379b8e5-c552-4a02-a4bb-bfa2219abe1d",
   "metadata": {},
   "outputs": [
    {
     "data": {
      "text/html": [
       "<div>\n",
       "<style scoped>\n",
       "    .dataframe tbody tr th:only-of-type {\n",
       "        vertical-align: middle;\n",
       "    }\n",
       "\n",
       "    .dataframe tbody tr th {\n",
       "        vertical-align: top;\n",
       "    }\n",
       "\n",
       "    .dataframe thead th {\n",
       "        text-align: right;\n",
       "    }\n",
       "</style>\n",
       "<table border=\"1\" class=\"dataframe\">\n",
       "  <thead>\n",
       "    <tr style=\"text-align: right;\">\n",
       "      <th></th>\n",
       "      <th>fixed acidity</th>\n",
       "      <th>volatile acidity</th>\n",
       "      <th>citric acid</th>\n",
       "      <th>residual sugar</th>\n",
       "      <th>chlorides</th>\n",
       "      <th>free sulfur dioxide</th>\n",
       "      <th>total sulfur dioxide</th>\n",
       "      <th>density</th>\n",
       "      <th>pH</th>\n",
       "      <th>sulphates</th>\n",
       "      <th>alcohol</th>\n",
       "      <th>quality</th>\n",
       "    </tr>\n",
       "  </thead>\n",
       "  <tbody>\n",
       "    <tr>\n",
       "      <th>0</th>\n",
       "      <td>7.0</td>\n",
       "      <td>0.27</td>\n",
       "      <td>0.36</td>\n",
       "      <td>20.7</td>\n",
       "      <td>0.045</td>\n",
       "      <td>45.0</td>\n",
       "      <td>170.0</td>\n",
       "      <td>1.0010</td>\n",
       "      <td>3.00</td>\n",
       "      <td>0.45</td>\n",
       "      <td>8.8</td>\n",
       "      <td>6</td>\n",
       "    </tr>\n",
       "    <tr>\n",
       "      <th>1</th>\n",
       "      <td>6.3</td>\n",
       "      <td>0.30</td>\n",
       "      <td>0.34</td>\n",
       "      <td>1.6</td>\n",
       "      <td>0.049</td>\n",
       "      <td>14.0</td>\n",
       "      <td>132.0</td>\n",
       "      <td>0.9940</td>\n",
       "      <td>3.30</td>\n",
       "      <td>0.49</td>\n",
       "      <td>9.5</td>\n",
       "      <td>6</td>\n",
       "    </tr>\n",
       "    <tr>\n",
       "      <th>2</th>\n",
       "      <td>8.1</td>\n",
       "      <td>0.28</td>\n",
       "      <td>0.40</td>\n",
       "      <td>6.9</td>\n",
       "      <td>0.050</td>\n",
       "      <td>30.0</td>\n",
       "      <td>97.0</td>\n",
       "      <td>0.9951</td>\n",
       "      <td>3.26</td>\n",
       "      <td>0.44</td>\n",
       "      <td>10.1</td>\n",
       "      <td>6</td>\n",
       "    </tr>\n",
       "    <tr>\n",
       "      <th>3</th>\n",
       "      <td>7.2</td>\n",
       "      <td>0.23</td>\n",
       "      <td>0.32</td>\n",
       "      <td>8.5</td>\n",
       "      <td>0.058</td>\n",
       "      <td>47.0</td>\n",
       "      <td>186.0</td>\n",
       "      <td>0.9956</td>\n",
       "      <td>3.19</td>\n",
       "      <td>0.40</td>\n",
       "      <td>9.9</td>\n",
       "      <td>6</td>\n",
       "    </tr>\n",
       "    <tr>\n",
       "      <th>4</th>\n",
       "      <td>7.2</td>\n",
       "      <td>0.23</td>\n",
       "      <td>0.32</td>\n",
       "      <td>8.5</td>\n",
       "      <td>0.058</td>\n",
       "      <td>47.0</td>\n",
       "      <td>186.0</td>\n",
       "      <td>0.9956</td>\n",
       "      <td>3.19</td>\n",
       "      <td>0.40</td>\n",
       "      <td>9.9</td>\n",
       "      <td>6</td>\n",
       "    </tr>\n",
       "  </tbody>\n",
       "</table>\n",
       "</div>"
      ],
      "text/plain": [
       "   fixed acidity  volatile acidity  citric acid  residual sugar  chlorides  \\\n",
       "0            7.0              0.27         0.36            20.7      0.045   \n",
       "1            6.3              0.30         0.34             1.6      0.049   \n",
       "2            8.1              0.28         0.40             6.9      0.050   \n",
       "3            7.2              0.23         0.32             8.5      0.058   \n",
       "4            7.2              0.23         0.32             8.5      0.058   \n",
       "\n",
       "   free sulfur dioxide  total sulfur dioxide  density    pH  sulphates  \\\n",
       "0                 45.0                 170.0   1.0010  3.00       0.45   \n",
       "1                 14.0                 132.0   0.9940  3.30       0.49   \n",
       "2                 30.0                  97.0   0.9951  3.26       0.44   \n",
       "3                 47.0                 186.0   0.9956  3.19       0.40   \n",
       "4                 47.0                 186.0   0.9956  3.19       0.40   \n",
       "\n",
       "   alcohol  quality  \n",
       "0      8.8        6  \n",
       "1      9.5        6  \n",
       "2     10.1        6  \n",
       "3      9.9        6  \n",
       "4      9.9        6  "
      ]
     },
     "execution_count": 102,
     "metadata": {},
     "output_type": "execute_result"
    }
   ],
   "source": [
    "df.head()"
   ]
  },
  {
   "cell_type": "code",
   "execution_count": null,
   "id": "5805de6b-fc04-4816-b333-e3b71c4a6ae5",
   "metadata": {},
   "outputs": [],
   "source": [
    "python -c \"import tensorflow as tf; print(tf.reduce_sum(tf.random.normal([1000, 1000])))\""
   ]
  }
 ],
 "metadata": {
  "kernelspec": {
   "display_name": "Python 3",
   "language": "python",
   "name": "python3"
  },
  "language_info": {
   "codemirror_mode": {
    "name": "ipython",
    "version": 3
   },
   "file_extension": ".py",
   "mimetype": "text/x-python",
   "name": "python",
   "nbconvert_exporter": "python",
   "pygments_lexer": "ipython3",
   "version": "3.6.10"
  }
 },
 "nbformat": 4,
 "nbformat_minor": 5
}

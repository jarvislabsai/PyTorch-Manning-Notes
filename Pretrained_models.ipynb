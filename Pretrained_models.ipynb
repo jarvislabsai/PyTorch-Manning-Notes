{
 "cells": [
  {
   "cell_type": "markdown",
   "id": "0b3c28e5-6099-4bd0-ad52-5b84e598ee5c",
   "metadata": {},
   "source": [
    "# What is a Pretrained Network"
   ]
  },
  {
   "cell_type": "markdown",
   "id": "ffffbfee-4965-41e4-8e91-ad22386ae1e3",
   "metadata": {},
   "source": [
    "\n",
    "\n",
    "[logo]: https://github.com/jarvislabsai/PyTorch-Manning-Notes/imgs/pretrained.png"
   ]
  },
  {
   "cell_type": "markdown",
   "id": "18666377-a411-4245-ad5e-0c0c5f35b7dc",
   "metadata": {},
   "source": [
    "![enter image description here](https://github.com/jarvislabsai/PyTorch-Manning-Notes/blob/main/imgs/pretrained.png?raw=true)"
   ]
  },
  {
   "cell_type": "code",
   "execution_count": 64,
   "id": "6bc089a7-a745-40f9-b289-5ee7e865241c",
   "metadata": {},
   "outputs": [],
   "source": [
    "from torchvision import models"
   ]
  },
  {
   "cell_type": "code",
   "execution_count": 65,
   "id": "b4525453-4eac-4082-8448-90ca18d559d3",
   "metadata": {
    "collapsed": true,
    "jupyter": {
     "outputs_hidden": true
    },
    "tags": []
   },
   "outputs": [
    {
     "data": {
      "text/plain": [
       "['AlexNet',\n",
       " 'DenseNet',\n",
       " 'GoogLeNet',\n",
       " 'GoogLeNetOutputs',\n",
       " 'Inception3',\n",
       " 'InceptionOutputs',\n",
       " 'MNASNet',\n",
       " 'MobileNetV2',\n",
       " 'ResNeXt',\n",
       " 'ResNet',\n",
       " 'ShuffleNetV2',\n",
       " 'SqueezeNet',\n",
       " 'VGG',\n",
       " '_GoogLeNetOutputs',\n",
       " '_InceptionOutputs',\n",
       " '__builtins__',\n",
       " '__cached__',\n",
       " '__doc__',\n",
       " '__file__',\n",
       " '__loader__',\n",
       " '__name__',\n",
       " '__package__',\n",
       " '__path__',\n",
       " '__spec__',\n",
       " '_utils',\n",
       " 'alexnet',\n",
       " 'densenet',\n",
       " 'densenet121',\n",
       " 'densenet161',\n",
       " 'densenet169',\n",
       " 'densenet201',\n",
       " 'detection',\n",
       " 'googlenet',\n",
       " 'inception',\n",
       " 'inception_v3',\n",
       " 'mnasnet',\n",
       " 'mnasnet0_5',\n",
       " 'mnasnet0_75',\n",
       " 'mnasnet1_0',\n",
       " 'mnasnet1_3',\n",
       " 'mobilenet',\n",
       " 'mobilenet_v2',\n",
       " 'mobilenetv2',\n",
       " 'quantization',\n",
       " 'resnet',\n",
       " 'resnet101',\n",
       " 'resnet152',\n",
       " 'resnet18',\n",
       " 'resnet34',\n",
       " 'resnet50',\n",
       " 'resnext',\n",
       " 'resnext101',\n",
       " 'resnext101_32x8d',\n",
       " 'resnext152',\n",
       " 'resnext50',\n",
       " 'resnext50_32x4d',\n",
       " 'segmentation',\n",
       " 'shufflenet_v2_x0_5',\n",
       " 'shufflenet_v2_x1_0',\n",
       " 'shufflenet_v2_x1_5',\n",
       " 'shufflenet_v2_x2_0',\n",
       " 'shufflenetv2',\n",
       " 'squeezenet',\n",
       " 'squeezenet1_0',\n",
       " 'squeezenet1_1',\n",
       " 'utils',\n",
       " 'vgg',\n",
       " 'vgg11',\n",
       " 'vgg11_bn',\n",
       " 'vgg13',\n",
       " 'vgg13_bn',\n",
       " 'vgg16',\n",
       " 'vgg16_bn',\n",
       " 'vgg19',\n",
       " 'vgg19_bn',\n",
       " 'video',\n",
       " 'wide_resnet101_2',\n",
       " 'wide_resnet50_2']"
      ]
     },
     "execution_count": 65,
     "metadata": {},
     "output_type": "execute_result"
    }
   ],
   "source": [
    "dir(models)"
   ]
  },
  {
   "cell_type": "markdown",
   "id": "cfe6d5c5-3056-499e-a9a5-8b74c9d389b3",
   "metadata": {},
   "source": [
    "### What is AlexNet"
   ]
  },
  {
   "cell_type": "markdown",
   "id": "2c906f21-e63e-496e-83fe-1e0fb6ba48a0",
   "metadata": {},
   "source": [
    "![enter image description here](https://github.com/jarvislabsai/PyTorch-Manning-Notes/blob/main/imgs/alexnet.png?raw=True)"
   ]
  },
  {
   "cell_type": "code",
   "execution_count": 12,
   "id": "7b350b3b-a927-4100-addf-09a37056b568",
   "metadata": {},
   "outputs": [
    {
     "data": {
      "text/plain": [
       "AlexNet(\n",
       "  (features): Sequential(\n",
       "    (0): Conv2d(3, 64, kernel_size=(11, 11), stride=(4, 4), padding=(2, 2))\n",
       "    (1): ReLU(inplace=True)\n",
       "    (2): MaxPool2d(kernel_size=3, stride=2, padding=0, dilation=1, ceil_mode=False)\n",
       "    (3): Conv2d(64, 192, kernel_size=(5, 5), stride=(1, 1), padding=(2, 2))\n",
       "    (4): ReLU(inplace=True)\n",
       "    (5): MaxPool2d(kernel_size=3, stride=2, padding=0, dilation=1, ceil_mode=False)\n",
       "    (6): Conv2d(192, 384, kernel_size=(3, 3), stride=(1, 1), padding=(1, 1))\n",
       "    (7): ReLU(inplace=True)\n",
       "    (8): Conv2d(384, 256, kernel_size=(3, 3), stride=(1, 1), padding=(1, 1))\n",
       "    (9): ReLU(inplace=True)\n",
       "    (10): Conv2d(256, 256, kernel_size=(3, 3), stride=(1, 1), padding=(1, 1))\n",
       "    (11): ReLU(inplace=True)\n",
       "    (12): MaxPool2d(kernel_size=3, stride=2, padding=0, dilation=1, ceil_mode=False)\n",
       "  )\n",
       "  (avgpool): AdaptiveAvgPool2d(output_size=(6, 6))\n",
       "  (classifier): Sequential(\n",
       "    (0): Dropout(p=0.5, inplace=False)\n",
       "    (1): Linear(in_features=9216, out_features=4096, bias=True)\n",
       "    (2): ReLU(inplace=True)\n",
       "    (3): Dropout(p=0.5, inplace=False)\n",
       "    (4): Linear(in_features=4096, out_features=4096, bias=True)\n",
       "    (5): ReLU(inplace=True)\n",
       "    (6): Linear(in_features=4096, out_features=1000, bias=True)\n",
       "  )\n",
       ")"
      ]
     },
     "execution_count": 12,
     "metadata": {},
     "output_type": "execute_result"
    }
   ],
   "source": [
    "alexnet = models.alexnet()\n",
    "alexnet"
   ]
  },
  {
   "cell_type": "markdown",
   "id": "d4a6135b-bd1b-4b7e-a341-8ab404c8916a",
   "metadata": {},
   "source": [
    "### Get a modern architecture"
   ]
  },
  {
   "cell_type": "code",
   "execution_count": 6,
   "id": "f8f24dd9-5fb8-4e1f-88d9-c50b624780d4",
   "metadata": {},
   "outputs": [
    {
     "name": "stderr",
     "output_type": "stream",
     "text": [
      "Downloading: \"https://download.pytorch.org/models/resnet101-5d3b4d8f.pth\" to /home/.cache/torch/hub/checkpoints/resnet101-5d3b4d8f.pth\n"
     ]
    },
    {
     "data": {
      "application/vnd.jupyter.widget-view+json": {
       "model_id": "897a1c32f1aa4a9fbc7a3719e114b762",
       "version_major": 2,
       "version_minor": 0
      },
      "text/plain": [
       "HBox(children=(HTML(value=''), FloatProgress(value=0.0, max=178728960.0), HTML(value='')))"
      ]
     },
     "metadata": {},
     "output_type": "display_data"
    },
    {
     "name": "stdout",
     "output_type": "stream",
     "text": [
      "\n"
     ]
    }
   ],
   "source": [
    "resnet = models.resnet101(pretrained=True)"
   ]
  },
  {
   "cell_type": "code",
   "execution_count": 8,
   "id": "b39c1860-20c7-453c-93af-c2e7366ef230",
   "metadata": {},
   "outputs": [
    {
     "name": "stdout",
     "output_type": "stream",
     "text": [
      "Collecting prettytable\n",
      "  Downloading prettytable-2.1.0-py3-none-any.whl (22 kB)\n",
      "Requirement already satisfied: wcwidth in /opt/conda/lib/python3.8/site-packages (from prettytable) (0.2.5)\n",
      "Installing collected packages: prettytable\n",
      "Successfully installed prettytable-2.1.0\n",
      "\u001b[33mWARNING: Running pip as root will break packages and permissions. You should install packages reliably by using venv: https://pip.pypa.io/warnings/venv\u001b[0m\n",
      "\u001b[33mWARNING: You are using pip version 21.1.1; however, version 21.1.2 is available.\n",
      "You should consider upgrading via the '/opt/conda/bin/python -m pip install --upgrade pip' command.\u001b[0m\n"
     ]
    }
   ],
   "source": [
    "!pip install prettytable"
   ]
  },
  {
   "cell_type": "code",
   "execution_count": 11,
   "id": "723b0559-0e63-454c-bc5f-66157fca0ee0",
   "metadata": {
    "tags": []
   },
   "outputs": [
    {
     "name": "stdout",
     "output_type": "stream",
     "text": [
      "+------------------------------+------------+\n",
      "|           Modules            | Parameters |\n",
      "+------------------------------+------------+\n",
      "|         conv1.weight         |    9408    |\n",
      "|          bn1.weight          |     64     |\n",
      "|           bn1.bias           |     64     |\n",
      "|    layer1.0.conv1.weight     |    4096    |\n",
      "|     layer1.0.bn1.weight      |     64     |\n",
      "|      layer1.0.bn1.bias       |     64     |\n",
      "|    layer1.0.conv2.weight     |   36864    |\n",
      "|     layer1.0.bn2.weight      |     64     |\n",
      "|      layer1.0.bn2.bias       |     64     |\n",
      "|    layer1.0.conv3.weight     |   16384    |\n",
      "|     layer1.0.bn3.weight      |    256     |\n",
      "|      layer1.0.bn3.bias       |    256     |\n",
      "| layer1.0.downsample.0.weight |   16384    |\n",
      "| layer1.0.downsample.1.weight |    256     |\n",
      "|  layer1.0.downsample.1.bias  |    256     |\n",
      "|    layer1.1.conv1.weight     |   16384    |\n",
      "|     layer1.1.bn1.weight      |     64     |\n",
      "|      layer1.1.bn1.bias       |     64     |\n",
      "|    layer1.1.conv2.weight     |   36864    |\n",
      "|     layer1.1.bn2.weight      |     64     |\n",
      "|      layer1.1.bn2.bias       |     64     |\n",
      "|    layer1.1.conv3.weight     |   16384    |\n",
      "|     layer1.1.bn3.weight      |    256     |\n",
      "|      layer1.1.bn3.bias       |    256     |\n",
      "|    layer1.2.conv1.weight     |   16384    |\n",
      "|     layer1.2.bn1.weight      |     64     |\n",
      "|      layer1.2.bn1.bias       |     64     |\n",
      "|    layer1.2.conv2.weight     |   36864    |\n",
      "|     layer1.2.bn2.weight      |     64     |\n",
      "|      layer1.2.bn2.bias       |     64     |\n",
      "|    layer1.2.conv3.weight     |   16384    |\n",
      "|     layer1.2.bn3.weight      |    256     |\n",
      "|      layer1.2.bn3.bias       |    256     |\n",
      "|    layer2.0.conv1.weight     |   32768    |\n",
      "|     layer2.0.bn1.weight      |    128     |\n",
      "|      layer2.0.bn1.bias       |    128     |\n",
      "|    layer2.0.conv2.weight     |   147456   |\n",
      "|     layer2.0.bn2.weight      |    128     |\n",
      "|      layer2.0.bn2.bias       |    128     |\n",
      "|    layer2.0.conv3.weight     |   65536    |\n",
      "|     layer2.0.bn3.weight      |    512     |\n",
      "|      layer2.0.bn3.bias       |    512     |\n",
      "| layer2.0.downsample.0.weight |   131072   |\n",
      "| layer2.0.downsample.1.weight |    512     |\n",
      "|  layer2.0.downsample.1.bias  |    512     |\n",
      "|    layer2.1.conv1.weight     |   65536    |\n",
      "|     layer2.1.bn1.weight      |    128     |\n",
      "|      layer2.1.bn1.bias       |    128     |\n",
      "|    layer2.1.conv2.weight     |   147456   |\n",
      "|     layer2.1.bn2.weight      |    128     |\n",
      "|      layer2.1.bn2.bias       |    128     |\n",
      "|    layer2.1.conv3.weight     |   65536    |\n",
      "|     layer2.1.bn3.weight      |    512     |\n",
      "|      layer2.1.bn3.bias       |    512     |\n",
      "|    layer2.2.conv1.weight     |   65536    |\n",
      "|     layer2.2.bn1.weight      |    128     |\n",
      "|      layer2.2.bn1.bias       |    128     |\n",
      "|    layer2.2.conv2.weight     |   147456   |\n",
      "|     layer2.2.bn2.weight      |    128     |\n",
      "|      layer2.2.bn2.bias       |    128     |\n",
      "|    layer2.2.conv3.weight     |   65536    |\n",
      "|     layer2.2.bn3.weight      |    512     |\n",
      "|      layer2.2.bn3.bias       |    512     |\n",
      "|    layer2.3.conv1.weight     |   65536    |\n",
      "|     layer2.3.bn1.weight      |    128     |\n",
      "|      layer2.3.bn1.bias       |    128     |\n",
      "|    layer2.3.conv2.weight     |   147456   |\n",
      "|     layer2.3.bn2.weight      |    128     |\n",
      "|      layer2.3.bn2.bias       |    128     |\n",
      "|    layer2.3.conv3.weight     |   65536    |\n",
      "|     layer2.3.bn3.weight      |    512     |\n",
      "|      layer2.3.bn3.bias       |    512     |\n",
      "|    layer3.0.conv1.weight     |   131072   |\n",
      "|     layer3.0.bn1.weight      |    256     |\n",
      "|      layer3.0.bn1.bias       |    256     |\n",
      "|    layer3.0.conv2.weight     |   589824   |\n",
      "|     layer3.0.bn2.weight      |    256     |\n",
      "|      layer3.0.bn2.bias       |    256     |\n",
      "|    layer3.0.conv3.weight     |   262144   |\n",
      "|     layer3.0.bn3.weight      |    1024    |\n",
      "|      layer3.0.bn3.bias       |    1024    |\n",
      "| layer3.0.downsample.0.weight |   524288   |\n",
      "| layer3.0.downsample.1.weight |    1024    |\n",
      "|  layer3.0.downsample.1.bias  |    1024    |\n",
      "|    layer3.1.conv1.weight     |   262144   |\n",
      "|     layer3.1.bn1.weight      |    256     |\n",
      "|      layer3.1.bn1.bias       |    256     |\n",
      "|    layer3.1.conv2.weight     |   589824   |\n",
      "|     layer3.1.bn2.weight      |    256     |\n",
      "|      layer3.1.bn2.bias       |    256     |\n",
      "|    layer3.1.conv3.weight     |   262144   |\n",
      "|     layer3.1.bn3.weight      |    1024    |\n",
      "|      layer3.1.bn3.bias       |    1024    |\n",
      "|    layer3.2.conv1.weight     |   262144   |\n",
      "|     layer3.2.bn1.weight      |    256     |\n",
      "|      layer3.2.bn1.bias       |    256     |\n",
      "|    layer3.2.conv2.weight     |   589824   |\n",
      "|     layer3.2.bn2.weight      |    256     |\n",
      "|      layer3.2.bn2.bias       |    256     |\n",
      "|    layer3.2.conv3.weight     |   262144   |\n",
      "|     layer3.2.bn3.weight      |    1024    |\n",
      "|      layer3.2.bn3.bias       |    1024    |\n",
      "|    layer3.3.conv1.weight     |   262144   |\n",
      "|     layer3.3.bn1.weight      |    256     |\n",
      "|      layer3.3.bn1.bias       |    256     |\n",
      "|    layer3.3.conv2.weight     |   589824   |\n",
      "|     layer3.3.bn2.weight      |    256     |\n",
      "|      layer3.3.bn2.bias       |    256     |\n",
      "|    layer3.3.conv3.weight     |   262144   |\n",
      "|     layer3.3.bn3.weight      |    1024    |\n",
      "|      layer3.3.bn3.bias       |    1024    |\n",
      "|    layer3.4.conv1.weight     |   262144   |\n",
      "|     layer3.4.bn1.weight      |    256     |\n",
      "|      layer3.4.bn1.bias       |    256     |\n",
      "|    layer3.4.conv2.weight     |   589824   |\n",
      "|     layer3.4.bn2.weight      |    256     |\n",
      "|      layer3.4.bn2.bias       |    256     |\n",
      "|    layer3.4.conv3.weight     |   262144   |\n",
      "|     layer3.4.bn3.weight      |    1024    |\n",
      "|      layer3.4.bn3.bias       |    1024    |\n",
      "|    layer3.5.conv1.weight     |   262144   |\n",
      "|     layer3.5.bn1.weight      |    256     |\n",
      "|      layer3.5.bn1.bias       |    256     |\n",
      "|    layer3.5.conv2.weight     |   589824   |\n",
      "|     layer3.5.bn2.weight      |    256     |\n",
      "|      layer3.5.bn2.bias       |    256     |\n",
      "|    layer3.5.conv3.weight     |   262144   |\n",
      "|     layer3.5.bn3.weight      |    1024    |\n",
      "|      layer3.5.bn3.bias       |    1024    |\n",
      "|    layer3.6.conv1.weight     |   262144   |\n",
      "|     layer3.6.bn1.weight      |    256     |\n",
      "|      layer3.6.bn1.bias       |    256     |\n",
      "|    layer3.6.conv2.weight     |   589824   |\n",
      "|     layer3.6.bn2.weight      |    256     |\n",
      "|      layer3.6.bn2.bias       |    256     |\n",
      "|    layer3.6.conv3.weight     |   262144   |\n",
      "|     layer3.6.bn3.weight      |    1024    |\n",
      "|      layer3.6.bn3.bias       |    1024    |\n",
      "|    layer3.7.conv1.weight     |   262144   |\n",
      "|     layer3.7.bn1.weight      |    256     |\n",
      "|      layer3.7.bn1.bias       |    256     |\n",
      "|    layer3.7.conv2.weight     |   589824   |\n",
      "|     layer3.7.bn2.weight      |    256     |\n",
      "|      layer3.7.bn2.bias       |    256     |\n",
      "|    layer3.7.conv3.weight     |   262144   |\n",
      "|     layer3.7.bn3.weight      |    1024    |\n",
      "|      layer3.7.bn3.bias       |    1024    |\n",
      "|    layer3.8.conv1.weight     |   262144   |\n",
      "|     layer3.8.bn1.weight      |    256     |\n",
      "|      layer3.8.bn1.bias       |    256     |\n",
      "|    layer3.8.conv2.weight     |   589824   |\n",
      "|     layer3.8.bn2.weight      |    256     |\n",
      "|      layer3.8.bn2.bias       |    256     |\n",
      "|    layer3.8.conv3.weight     |   262144   |\n",
      "|     layer3.8.bn3.weight      |    1024    |\n",
      "|      layer3.8.bn3.bias       |    1024    |\n",
      "|    layer3.9.conv1.weight     |   262144   |\n",
      "|     layer3.9.bn1.weight      |    256     |\n",
      "|      layer3.9.bn1.bias       |    256     |\n",
      "|    layer3.9.conv2.weight     |   589824   |\n",
      "|     layer3.9.bn2.weight      |    256     |\n",
      "|      layer3.9.bn2.bias       |    256     |\n",
      "|    layer3.9.conv3.weight     |   262144   |\n",
      "|     layer3.9.bn3.weight      |    1024    |\n",
      "|      layer3.9.bn3.bias       |    1024    |\n",
      "|    layer3.10.conv1.weight    |   262144   |\n",
      "|     layer3.10.bn1.weight     |    256     |\n",
      "|      layer3.10.bn1.bias      |    256     |\n",
      "|    layer3.10.conv2.weight    |   589824   |\n",
      "|     layer3.10.bn2.weight     |    256     |\n",
      "|      layer3.10.bn2.bias      |    256     |\n",
      "|    layer3.10.conv3.weight    |   262144   |\n",
      "|     layer3.10.bn3.weight     |    1024    |\n",
      "|      layer3.10.bn3.bias      |    1024    |\n",
      "|    layer3.11.conv1.weight    |   262144   |\n",
      "|     layer3.11.bn1.weight     |    256     |\n",
      "|      layer3.11.bn1.bias      |    256     |\n",
      "|    layer3.11.conv2.weight    |   589824   |\n",
      "|     layer3.11.bn2.weight     |    256     |\n",
      "|      layer3.11.bn2.bias      |    256     |\n",
      "|    layer3.11.conv3.weight    |   262144   |\n",
      "|     layer3.11.bn3.weight     |    1024    |\n",
      "|      layer3.11.bn3.bias      |    1024    |\n",
      "|    layer3.12.conv1.weight    |   262144   |\n",
      "|     layer3.12.bn1.weight     |    256     |\n",
      "|      layer3.12.bn1.bias      |    256     |\n",
      "|    layer3.12.conv2.weight    |   589824   |\n",
      "|     layer3.12.bn2.weight     |    256     |\n",
      "|      layer3.12.bn2.bias      |    256     |\n",
      "|    layer3.12.conv3.weight    |   262144   |\n",
      "|     layer3.12.bn3.weight     |    1024    |\n",
      "|      layer3.12.bn3.bias      |    1024    |\n",
      "|    layer3.13.conv1.weight    |   262144   |\n",
      "|     layer3.13.bn1.weight     |    256     |\n",
      "|      layer3.13.bn1.bias      |    256     |\n",
      "|    layer3.13.conv2.weight    |   589824   |\n",
      "|     layer3.13.bn2.weight     |    256     |\n",
      "|      layer3.13.bn2.bias      |    256     |\n",
      "|    layer3.13.conv3.weight    |   262144   |\n",
      "|     layer3.13.bn3.weight     |    1024    |\n",
      "|      layer3.13.bn3.bias      |    1024    |\n",
      "|    layer3.14.conv1.weight    |   262144   |\n",
      "|     layer3.14.bn1.weight     |    256     |\n",
      "|      layer3.14.bn1.bias      |    256     |\n",
      "|    layer3.14.conv2.weight    |   589824   |\n",
      "|     layer3.14.bn2.weight     |    256     |\n",
      "|      layer3.14.bn2.bias      |    256     |\n",
      "|    layer3.14.conv3.weight    |   262144   |\n",
      "|     layer3.14.bn3.weight     |    1024    |\n",
      "|      layer3.14.bn3.bias      |    1024    |\n",
      "|    layer3.15.conv1.weight    |   262144   |\n",
      "|     layer3.15.bn1.weight     |    256     |\n",
      "|      layer3.15.bn1.bias      |    256     |\n",
      "|    layer3.15.conv2.weight    |   589824   |\n",
      "|     layer3.15.bn2.weight     |    256     |\n",
      "|      layer3.15.bn2.bias      |    256     |\n",
      "|    layer3.15.conv3.weight    |   262144   |\n",
      "|     layer3.15.bn3.weight     |    1024    |\n",
      "|      layer3.15.bn3.bias      |    1024    |\n",
      "|    layer3.16.conv1.weight    |   262144   |\n",
      "|     layer3.16.bn1.weight     |    256     |\n",
      "|      layer3.16.bn1.bias      |    256     |\n",
      "|    layer3.16.conv2.weight    |   589824   |\n",
      "|     layer3.16.bn2.weight     |    256     |\n",
      "|      layer3.16.bn2.bias      |    256     |\n",
      "|    layer3.16.conv3.weight    |   262144   |\n",
      "|     layer3.16.bn3.weight     |    1024    |\n",
      "|      layer3.16.bn3.bias      |    1024    |\n",
      "|    layer3.17.conv1.weight    |   262144   |\n",
      "|     layer3.17.bn1.weight     |    256     |\n",
      "|      layer3.17.bn1.bias      |    256     |\n",
      "|    layer3.17.conv2.weight    |   589824   |\n",
      "|     layer3.17.bn2.weight     |    256     |\n",
      "|      layer3.17.bn2.bias      |    256     |\n",
      "|    layer3.17.conv3.weight    |   262144   |\n",
      "|     layer3.17.bn3.weight     |    1024    |\n",
      "|      layer3.17.bn3.bias      |    1024    |\n",
      "|    layer3.18.conv1.weight    |   262144   |\n",
      "|     layer3.18.bn1.weight     |    256     |\n",
      "|      layer3.18.bn1.bias      |    256     |\n",
      "|    layer3.18.conv2.weight    |   589824   |\n",
      "|     layer3.18.bn2.weight     |    256     |\n",
      "|      layer3.18.bn2.bias      |    256     |\n",
      "|    layer3.18.conv3.weight    |   262144   |\n",
      "|     layer3.18.bn3.weight     |    1024    |\n",
      "|      layer3.18.bn3.bias      |    1024    |\n",
      "|    layer3.19.conv1.weight    |   262144   |\n",
      "|     layer3.19.bn1.weight     |    256     |\n",
      "|      layer3.19.bn1.bias      |    256     |\n",
      "|    layer3.19.conv2.weight    |   589824   |\n",
      "|     layer3.19.bn2.weight     |    256     |\n",
      "|      layer3.19.bn2.bias      |    256     |\n",
      "|    layer3.19.conv3.weight    |   262144   |\n",
      "|     layer3.19.bn3.weight     |    1024    |\n",
      "|      layer3.19.bn3.bias      |    1024    |\n",
      "|    layer3.20.conv1.weight    |   262144   |\n",
      "|     layer3.20.bn1.weight     |    256     |\n",
      "|      layer3.20.bn1.bias      |    256     |\n",
      "|    layer3.20.conv2.weight    |   589824   |\n",
      "|     layer3.20.bn2.weight     |    256     |\n",
      "|      layer3.20.bn2.bias      |    256     |\n",
      "|    layer3.20.conv3.weight    |   262144   |\n",
      "|     layer3.20.bn3.weight     |    1024    |\n",
      "|      layer3.20.bn3.bias      |    1024    |\n",
      "|    layer3.21.conv1.weight    |   262144   |\n",
      "|     layer3.21.bn1.weight     |    256     |\n",
      "|      layer3.21.bn1.bias      |    256     |\n",
      "|    layer3.21.conv2.weight    |   589824   |\n",
      "|     layer3.21.bn2.weight     |    256     |\n",
      "|      layer3.21.bn2.bias      |    256     |\n",
      "|    layer3.21.conv3.weight    |   262144   |\n",
      "|     layer3.21.bn3.weight     |    1024    |\n",
      "|      layer3.21.bn3.bias      |    1024    |\n",
      "|    layer3.22.conv1.weight    |   262144   |\n",
      "|     layer3.22.bn1.weight     |    256     |\n",
      "|      layer3.22.bn1.bias      |    256     |\n",
      "|    layer3.22.conv2.weight    |   589824   |\n",
      "|     layer3.22.bn2.weight     |    256     |\n",
      "|      layer3.22.bn2.bias      |    256     |\n",
      "|    layer3.22.conv3.weight    |   262144   |\n",
      "|     layer3.22.bn3.weight     |    1024    |\n",
      "|      layer3.22.bn3.bias      |    1024    |\n",
      "|    layer4.0.conv1.weight     |   524288   |\n",
      "|     layer4.0.bn1.weight      |    512     |\n",
      "|      layer4.0.bn1.bias       |    512     |\n",
      "|    layer4.0.conv2.weight     |  2359296   |\n",
      "|     layer4.0.bn2.weight      |    512     |\n",
      "|      layer4.0.bn2.bias       |    512     |\n",
      "|    layer4.0.conv3.weight     |  1048576   |\n",
      "|     layer4.0.bn3.weight      |    2048    |\n",
      "|      layer4.0.bn3.bias       |    2048    |\n",
      "| layer4.0.downsample.0.weight |  2097152   |\n",
      "| layer4.0.downsample.1.weight |    2048    |\n",
      "|  layer4.0.downsample.1.bias  |    2048    |\n",
      "|    layer4.1.conv1.weight     |  1048576   |\n",
      "|     layer4.1.bn1.weight      |    512     |\n",
      "|      layer4.1.bn1.bias       |    512     |\n",
      "|    layer4.1.conv2.weight     |  2359296   |\n",
      "|     layer4.1.bn2.weight      |    512     |\n",
      "|      layer4.1.bn2.bias       |    512     |\n",
      "|    layer4.1.conv3.weight     |  1048576   |\n",
      "|     layer4.1.bn3.weight      |    2048    |\n",
      "|      layer4.1.bn3.bias       |    2048    |\n",
      "|    layer4.2.conv1.weight     |  1048576   |\n",
      "|     layer4.2.bn1.weight      |    512     |\n",
      "|      layer4.2.bn1.bias       |    512     |\n",
      "|    layer4.2.conv2.weight     |  2359296   |\n",
      "|     layer4.2.bn2.weight      |    512     |\n",
      "|      layer4.2.bn2.bias       |    512     |\n",
      "|    layer4.2.conv3.weight     |  1048576   |\n",
      "|     layer4.2.bn3.weight      |    2048    |\n",
      "|      layer4.2.bn3.bias       |    2048    |\n",
      "|          fc.weight           |  2048000   |\n",
      "|           fc.bias            |    1000    |\n",
      "+------------------------------+------------+\n",
      "Total Trainable Params: 44549160\n"
     ]
    },
    {
     "data": {
      "text/plain": [
       "44549160"
      ]
     },
     "execution_count": 11,
     "metadata": {},
     "output_type": "execute_result"
    }
   ],
   "source": [
    "from prettytable import PrettyTable\n",
    "#Borrowed from Stack Overflow https://stackoverflow.com/a/62508086/1660223\n",
    "def count_parameters(model):\n",
    "    table = PrettyTable([\"Modules\", \"Parameters\"])\n",
    "    total_params = 0\n",
    "    for name, parameter in model.named_parameters():\n",
    "        if not parameter.requires_grad: continue\n",
    "        param = parameter.numel()\n",
    "        table.add_row([name, param])\n",
    "        total_params+=param\n",
    "    print(table)\n",
    "    print(f\"Total Trainable Params: {total_params}\")\n",
    "    return total_params\n",
    "    \n",
    "count_parameters(resnet)"
   ]
  },
  {
   "cell_type": "markdown",
   "id": "86904b1d-fbb9-49d3-9ad2-d503d56cea6c",
   "metadata": {},
   "source": [
    "44.5 Million Parameters\n"
   ]
  },
  {
   "cell_type": "code",
   "execution_count": 13,
   "id": "3929f00f-da6c-46df-abbb-c52a5c746106",
   "metadata": {},
   "outputs": [
    {
     "name": "stdout",
     "output_type": "stream",
     "text": [
      "+---------------------+------------+\n",
      "|       Modules       | Parameters |\n",
      "+---------------------+------------+\n",
      "|  features.0.weight  |   23232    |\n",
      "|   features.0.bias   |     64     |\n",
      "|  features.3.weight  |   307200   |\n",
      "|   features.3.bias   |    192     |\n",
      "|  features.6.weight  |   663552   |\n",
      "|   features.6.bias   |    384     |\n",
      "|  features.8.weight  |   884736   |\n",
      "|   features.8.bias   |    256     |\n",
      "|  features.10.weight |   589824   |\n",
      "|   features.10.bias  |    256     |\n",
      "| classifier.1.weight |  37748736  |\n",
      "|  classifier.1.bias  |    4096    |\n",
      "| classifier.4.weight |  16777216  |\n",
      "|  classifier.4.bias  |    4096    |\n",
      "| classifier.6.weight |  4096000   |\n",
      "|  classifier.6.bias  |    1000    |\n",
      "+---------------------+------------+\n",
      "Total Trainable Params: 61100840\n"
     ]
    },
    {
     "data": {
      "text/plain": [
       "61100840"
      ]
     },
     "execution_count": 13,
     "metadata": {},
     "output_type": "execute_result"
    }
   ],
   "source": [
    "count_parameters(alexnet)"
   ]
  },
  {
   "cell_type": "markdown",
   "id": "8359b989-9dfb-495d-95ed-aa9a36e04962",
   "metadata": {},
   "source": [
    "Close to 6 million Params"
   ]
  },
  {
   "cell_type": "markdown",
   "id": "adab0ad6-822e-45a5-9c6e-3bdf64d24959",
   "metadata": {},
   "source": [
    "### A simple inference pipeline"
   ]
  },
  {
   "cell_type": "code",
   "execution_count": 14,
   "id": "3b7234ca-171a-491c-9ba0-17dcba7c3236",
   "metadata": {},
   "outputs": [],
   "source": [
    "from torchvision import transforms \n",
    "\n",
    "preprocess = transforms.Compose([\n",
    "        transforms.Resize(256), \n",
    "        transforms.CenterCrop(224), \n",
    "        transforms.ToTensor(), \n",
    "        transforms.Normalize(\n",
    "            mean=[0.485, 0.456, 0.406],\n",
    "            std=[0.229, 0.224, 0.225]\n",
    "        )])\n"
   ]
  },
  {
   "cell_type": "code",
   "execution_count": 15,
   "id": "f5fd9b36-e270-412e-92f1-aec348b94333",
   "metadata": {},
   "outputs": [],
   "source": [
    "from PIL import Image"
   ]
  },
  {
   "cell_type": "code",
   "execution_count": 17,
   "id": "b6707ba4-731e-4143-b3c5-19c2355ffaa4",
   "metadata": {},
   "outputs": [],
   "source": [
    "img = Image.open(\"imgs/bobby.jpeg\")"
   ]
  },
  {
   "cell_type": "code",
   "execution_count": 23,
   "id": "14d2773b-5333-40c2-a56f-d6034bd54852",
   "metadata": {},
   "outputs": [
    {
     "data": {
      "image/png": "[encoded data removed]",
      "text/plain": [
       "<PIL.Image.Image image mode=RGB size=256x256 at 0x7F7364409D00>"
      ]
     },
     "execution_count": 23,
     "metadata": {},
     "output_type": "execute_result"
    }
   ],
   "source": [
    "img.resize((256,256))"
   ]
  },
  {
   "cell_type": "code",
   "execution_count": 24,
   "id": "d9ebd3a1-b652-45e7-b67b-440274b50ec9",
   "metadata": {},
   "outputs": [],
   "source": [
    "img_t = preprocess(img)"
   ]
  },
  {
   "cell_type": "code",
   "execution_count": 25,
   "id": "23b97ca6-93c2-4747-9e46-ae2df1a0915b",
   "metadata": {},
   "outputs": [],
   "source": [
    "import torch\n",
    "batch_t = torch.unsqueeze(img_t, 0)"
   ]
  },
  {
   "cell_type": "code",
   "execution_count": 30,
   "id": "53b0cd68-cb44-408d-a0b1-fddc75af1d29",
   "metadata": {},
   "outputs": [
    {
     "data": {
      "text/plain": [
       "(torch.Size([3, 224, 224]), torch.Size([1, 3, 224, 224]))"
      ]
     },
     "execution_count": 30,
     "metadata": {},
     "output_type": "execute_result"
    }
   ],
   "source": [
    "img_t.shape,batch_t.shape"
   ]
  },
  {
   "cell_type": "code",
   "execution_count": 31,
   "id": "daafd302-a397-4357-95b1-0c128dda0ba1",
   "metadata": {
    "collapsed": true,
    "jupyter": {
     "outputs_hidden": true
    },
    "tags": []
   },
   "outputs": [
    {
     "data": {
      "text/plain": [
       "ResNet(\n",
       "  (conv1): Conv2d(3, 64, kernel_size=(7, 7), stride=(2, 2), padding=(3, 3), bias=False)\n",
       "  (bn1): BatchNorm2d(64, eps=1e-05, momentum=0.1, affine=True, track_running_stats=True)\n",
       "  (relu): ReLU(inplace=True)\n",
       "  (maxpool): MaxPool2d(kernel_size=3, stride=2, padding=1, dilation=1, ceil_mode=False)\n",
       "  (layer1): Sequential(\n",
       "    (0): Bottleneck(\n",
       "      (conv1): Conv2d(64, 64, kernel_size=(1, 1), stride=(1, 1), bias=False)\n",
       "      (bn1): BatchNorm2d(64, eps=1e-05, momentum=0.1, affine=True, track_running_stats=True)\n",
       "      (conv2): Conv2d(64, 64, kernel_size=(3, 3), stride=(1, 1), padding=(1, 1), bias=False)\n",
       "      (bn2): BatchNorm2d(64, eps=1e-05, momentum=0.1, affine=True, track_running_stats=True)\n",
       "      (conv3): Conv2d(64, 256, kernel_size=(1, 1), stride=(1, 1), bias=False)\n",
       "      (bn3): BatchNorm2d(256, eps=1e-05, momentum=0.1, affine=True, track_running_stats=True)\n",
       "      (relu): ReLU(inplace=True)\n",
       "      (downsample): Sequential(\n",
       "        (0): Conv2d(64, 256, kernel_size=(1, 1), stride=(1, 1), bias=False)\n",
       "        (1): BatchNorm2d(256, eps=1e-05, momentum=0.1, affine=True, track_running_stats=True)\n",
       "      )\n",
       "    )\n",
       "    (1): Bottleneck(\n",
       "      (conv1): Conv2d(256, 64, kernel_size=(1, 1), stride=(1, 1), bias=False)\n",
       "      (bn1): BatchNorm2d(64, eps=1e-05, momentum=0.1, affine=True, track_running_stats=True)\n",
       "      (conv2): Conv2d(64, 64, kernel_size=(3, 3), stride=(1, 1), padding=(1, 1), bias=False)\n",
       "      (bn2): BatchNorm2d(64, eps=1e-05, momentum=0.1, affine=True, track_running_stats=True)\n",
       "      (conv3): Conv2d(64, 256, kernel_size=(1, 1), stride=(1, 1), bias=False)\n",
       "      (bn3): BatchNorm2d(256, eps=1e-05, momentum=0.1, affine=True, track_running_stats=True)\n",
       "      (relu): ReLU(inplace=True)\n",
       "    )\n",
       "    (2): Bottleneck(\n",
       "      (conv1): Conv2d(256, 64, kernel_size=(1, 1), stride=(1, 1), bias=False)\n",
       "      (bn1): BatchNorm2d(64, eps=1e-05, momentum=0.1, affine=True, track_running_stats=True)\n",
       "      (conv2): Conv2d(64, 64, kernel_size=(3, 3), stride=(1, 1), padding=(1, 1), bias=False)\n",
       "      (bn2): BatchNorm2d(64, eps=1e-05, momentum=0.1, affine=True, track_running_stats=True)\n",
       "      (conv3): Conv2d(64, 256, kernel_size=(1, 1), stride=(1, 1), bias=False)\n",
       "      (bn3): BatchNorm2d(256, eps=1e-05, momentum=0.1, affine=True, track_running_stats=True)\n",
       "      (relu): ReLU(inplace=True)\n",
       "    )\n",
       "  )\n",
       "  (layer2): Sequential(\n",
       "    (0): Bottleneck(\n",
       "      (conv1): Conv2d(256, 128, kernel_size=(1, 1), stride=(1, 1), bias=False)\n",
       "      (bn1): BatchNorm2d(128, eps=1e-05, momentum=0.1, affine=True, track_running_stats=True)\n",
       "      (conv2): Conv2d(128, 128, kernel_size=(3, 3), stride=(2, 2), padding=(1, 1), bias=False)\n",
       "      (bn2): BatchNorm2d(128, eps=1e-05, momentum=0.1, affine=True, track_running_stats=True)\n",
       "      (conv3): Conv2d(128, 512, kernel_size=(1, 1), stride=(1, 1), bias=False)\n",
       "      (bn3): BatchNorm2d(512, eps=1e-05, momentum=0.1, affine=True, track_running_stats=True)\n",
       "      (relu): ReLU(inplace=True)\n",
       "      (downsample): Sequential(\n",
       "        (0): Conv2d(256, 512, kernel_size=(1, 1), stride=(2, 2), bias=False)\n",
       "        (1): BatchNorm2d(512, eps=1e-05, momentum=0.1, affine=True, track_running_stats=True)\n",
       "      )\n",
       "    )\n",
       "    (1): Bottleneck(\n",
       "      (conv1): Conv2d(512, 128, kernel_size=(1, 1), stride=(1, 1), bias=False)\n",
       "      (bn1): BatchNorm2d(128, eps=1e-05, momentum=0.1, affine=True, track_running_stats=True)\n",
       "      (conv2): Conv2d(128, 128, kernel_size=(3, 3), stride=(1, 1), padding=(1, 1), bias=False)\n",
       "      (bn2): BatchNorm2d(128, eps=1e-05, momentum=0.1, affine=True, track_running_stats=True)\n",
       "      (conv3): Conv2d(128, 512, kernel_size=(1, 1), stride=(1, 1), bias=False)\n",
       "      (bn3): BatchNorm2d(512, eps=1e-05, momentum=0.1, affine=True, track_running_stats=True)\n",
       "      (relu): ReLU(inplace=True)\n",
       "    )\n",
       "    (2): Bottleneck(\n",
       "      (conv1): Conv2d(512, 128, kernel_size=(1, 1), stride=(1, 1), bias=False)\n",
       "      (bn1): BatchNorm2d(128, eps=1e-05, momentum=0.1, affine=True, track_running_stats=True)\n",
       "      (conv2): Conv2d(128, 128, kernel_size=(3, 3), stride=(1, 1), padding=(1, 1), bias=False)\n",
       "      (bn2): BatchNorm2d(128, eps=1e-05, momentum=0.1, affine=True, track_running_stats=True)\n",
       "      (conv3): Conv2d(128, 512, kernel_size=(1, 1), stride=(1, 1), bias=False)\n",
       "      (bn3): BatchNorm2d(512, eps=1e-05, momentum=0.1, affine=True, track_running_stats=True)\n",
       "      (relu): ReLU(inplace=True)\n",
       "    )\n",
       "    (3): Bottleneck(\n",
       "      (conv1): Conv2d(512, 128, kernel_size=(1, 1), stride=(1, 1), bias=False)\n",
       "      (bn1): BatchNorm2d(128, eps=1e-05, momentum=0.1, affine=True, track_running_stats=True)\n",
       "      (conv2): Conv2d(128, 128, kernel_size=(3, 3), stride=(1, 1), padding=(1, 1), bias=False)\n",
       "      (bn2): BatchNorm2d(128, eps=1e-05, momentum=0.1, affine=True, track_running_stats=True)\n",
       "      (conv3): Conv2d(128, 512, kernel_size=(1, 1), stride=(1, 1), bias=False)\n",
       "      (bn3): BatchNorm2d(512, eps=1e-05, momentum=0.1, affine=True, track_running_stats=True)\n",
       "      (relu): ReLU(inplace=True)\n",
       "    )\n",
       "  )\n",
       "  (layer3): Sequential(\n",
       "    (0): Bottleneck(\n",
       "      (conv1): Conv2d(512, 256, kernel_size=(1, 1), stride=(1, 1), bias=False)\n",
       "      (bn1): BatchNorm2d(256, eps=1e-05, momentum=0.1, affine=True, track_running_stats=True)\n",
       "      (conv2): Conv2d(256, 256, kernel_size=(3, 3), stride=(2, 2), padding=(1, 1), bias=False)\n",
       "      (bn2): BatchNorm2d(256, eps=1e-05, momentum=0.1, affine=True, track_running_stats=True)\n",
       "      (conv3): Conv2d(256, 1024, kernel_size=(1, 1), stride=(1, 1), bias=False)\n",
       "      (bn3): BatchNorm2d(1024, eps=1e-05, momentum=0.1, affine=True, track_running_stats=True)\n",
       "      (relu): ReLU(inplace=True)\n",
       "      (downsample): Sequential(\n",
       "        (0): Conv2d(512, 1024, kernel_size=(1, 1), stride=(2, 2), bias=False)\n",
       "        (1): BatchNorm2d(1024, eps=1e-05, momentum=0.1, affine=True, track_running_stats=True)\n",
       "      )\n",
       "    )\n",
       "    (1): Bottleneck(\n",
       "      (conv1): Conv2d(1024, 256, kernel_size=(1, 1), stride=(1, 1), bias=False)\n",
       "      (bn1): BatchNorm2d(256, eps=1e-05, momentum=0.1, affine=True, track_running_stats=True)\n",
       "      (conv2): Conv2d(256, 256, kernel_size=(3, 3), stride=(1, 1), padding=(1, 1), bias=False)\n",
       "      (bn2): BatchNorm2d(256, eps=1e-05, momentum=0.1, affine=True, track_running_stats=True)\n",
       "      (conv3): Conv2d(256, 1024, kernel_size=(1, 1), stride=(1, 1), bias=False)\n",
       "      (bn3): BatchNorm2d(1024, eps=1e-05, momentum=0.1, affine=True, track_running_stats=True)\n",
       "      (relu): ReLU(inplace=True)\n",
       "    )\n",
       "    (2): Bottleneck(\n",
       "      (conv1): Conv2d(1024, 256, kernel_size=(1, 1), stride=(1, 1), bias=False)\n",
       "      (bn1): BatchNorm2d(256, eps=1e-05, momentum=0.1, affine=True, track_running_stats=True)\n",
       "      (conv2): Conv2d(256, 256, kernel_size=(3, 3), stride=(1, 1), padding=(1, 1), bias=False)\n",
       "      (bn2): BatchNorm2d(256, eps=1e-05, momentum=0.1, affine=True, track_running_stats=True)\n",
       "      (conv3): Conv2d(256, 1024, kernel_size=(1, 1), stride=(1, 1), bias=False)\n",
       "      (bn3): BatchNorm2d(1024, eps=1e-05, momentum=0.1, affine=True, track_running_stats=True)\n",
       "      (relu): ReLU(inplace=True)\n",
       "    )\n",
       "    (3): Bottleneck(\n",
       "      (conv1): Conv2d(1024, 256, kernel_size=(1, 1), stride=(1, 1), bias=False)\n",
       "      (bn1): BatchNorm2d(256, eps=1e-05, momentum=0.1, affine=True, track_running_stats=True)\n",
       "      (conv2): Conv2d(256, 256, kernel_size=(3, 3), stride=(1, 1), padding=(1, 1), bias=False)\n",
       "      (bn2): BatchNorm2d(256, eps=1e-05, momentum=0.1, affine=True, track_running_stats=True)\n",
       "      (conv3): Conv2d(256, 1024, kernel_size=(1, 1), stride=(1, 1), bias=False)\n",
       "      (bn3): BatchNorm2d(1024, eps=1e-05, momentum=0.1, affine=True, track_running_stats=True)\n",
       "      (relu): ReLU(inplace=True)\n",
       "    )\n",
       "    (4): Bottleneck(\n",
       "      (conv1): Conv2d(1024, 256, kernel_size=(1, 1), stride=(1, 1), bias=False)\n",
       "      (bn1): BatchNorm2d(256, eps=1e-05, momentum=0.1, affine=True, track_running_stats=True)\n",
       "      (conv2): Conv2d(256, 256, kernel_size=(3, 3), stride=(1, 1), padding=(1, 1), bias=False)\n",
       "      (bn2): BatchNorm2d(256, eps=1e-05, momentum=0.1, affine=True, track_running_stats=True)\n",
       "      (conv3): Conv2d(256, 1024, kernel_size=(1, 1), stride=(1, 1), bias=False)\n",
       "      (bn3): BatchNorm2d(1024, eps=1e-05, momentum=0.1, affine=True, track_running_stats=True)\n",
       "      (relu): ReLU(inplace=True)\n",
       "    )\n",
       "    (5): Bottleneck(\n",
       "      (conv1): Conv2d(1024, 256, kernel_size=(1, 1), stride=(1, 1), bias=False)\n",
       "      (bn1): BatchNorm2d(256, eps=1e-05, momentum=0.1, affine=True, track_running_stats=True)\n",
       "      (conv2): Conv2d(256, 256, kernel_size=(3, 3), stride=(1, 1), padding=(1, 1), bias=False)\n",
       "      (bn2): BatchNorm2d(256, eps=1e-05, momentum=0.1, affine=True, track_running_stats=True)\n",
       "      (conv3): Conv2d(256, 1024, kernel_size=(1, 1), stride=(1, 1), bias=False)\n",
       "      (bn3): BatchNorm2d(1024, eps=1e-05, momentum=0.1, affine=True, track_running_stats=True)\n",
       "      (relu): ReLU(inplace=True)\n",
       "    )\n",
       "    (6): Bottleneck(\n",
       "      (conv1): Conv2d(1024, 256, kernel_size=(1, 1), stride=(1, 1), bias=False)\n",
       "      (bn1): BatchNorm2d(256, eps=1e-05, momentum=0.1, affine=True, track_running_stats=True)\n",
       "      (conv2): Conv2d(256, 256, kernel_size=(3, 3), stride=(1, 1), padding=(1, 1), bias=False)\n",
       "      (bn2): BatchNorm2d(256, eps=1e-05, momentum=0.1, affine=True, track_running_stats=True)\n",
       "      (conv3): Conv2d(256, 1024, kernel_size=(1, 1), stride=(1, 1), bias=False)\n",
       "      (bn3): BatchNorm2d(1024, eps=1e-05, momentum=0.1, affine=True, track_running_stats=True)\n",
       "      (relu): ReLU(inplace=True)\n",
       "    )\n",
       "    (7): Bottleneck(\n",
       "      (conv1): Conv2d(1024, 256, kernel_size=(1, 1), stride=(1, 1), bias=False)\n",
       "      (bn1): BatchNorm2d(256, eps=1e-05, momentum=0.1, affine=True, track_running_stats=True)\n",
       "      (conv2): Conv2d(256, 256, kernel_size=(3, 3), stride=(1, 1), padding=(1, 1), bias=False)\n",
       "      (bn2): BatchNorm2d(256, eps=1e-05, momentum=0.1, affine=True, track_running_stats=True)\n",
       "      (conv3): Conv2d(256, 1024, kernel_size=(1, 1), stride=(1, 1), bias=False)\n",
       "      (bn3): BatchNorm2d(1024, eps=1e-05, momentum=0.1, affine=True, track_running_stats=True)\n",
       "      (relu): ReLU(inplace=True)\n",
       "    )\n",
       "    (8): Bottleneck(\n",
       "      (conv1): Conv2d(1024, 256, kernel_size=(1, 1), stride=(1, 1), bias=False)\n",
       "      (bn1): BatchNorm2d(256, eps=1e-05, momentum=0.1, affine=True, track_running_stats=True)\n",
       "      (conv2): Conv2d(256, 256, kernel_size=(3, 3), stride=(1, 1), padding=(1, 1), bias=False)\n",
       "      (bn2): BatchNorm2d(256, eps=1e-05, momentum=0.1, affine=True, track_running_stats=True)\n",
       "      (conv3): Conv2d(256, 1024, kernel_size=(1, 1), stride=(1, 1), bias=False)\n",
       "      (bn3): BatchNorm2d(1024, eps=1e-05, momentum=0.1, affine=True, track_running_stats=True)\n",
       "      (relu): ReLU(inplace=True)\n",
       "    )\n",
       "    (9): Bottleneck(\n",
       "      (conv1): Conv2d(1024, 256, kernel_size=(1, 1), stride=(1, 1), bias=False)\n",
       "      (bn1): BatchNorm2d(256, eps=1e-05, momentum=0.1, affine=True, track_running_stats=True)\n",
       "      (conv2): Conv2d(256, 256, kernel_size=(3, 3), stride=(1, 1), padding=(1, 1), bias=False)\n",
       "      (bn2): BatchNorm2d(256, eps=1e-05, momentum=0.1, affine=True, track_running_stats=True)\n",
       "      (conv3): Conv2d(256, 1024, kernel_size=(1, 1), stride=(1, 1), bias=False)\n",
       "      (bn3): BatchNorm2d(1024, eps=1e-05, momentum=0.1, affine=True, track_running_stats=True)\n",
       "      (relu): ReLU(inplace=True)\n",
       "    )\n",
       "    (10): Bottleneck(\n",
       "      (conv1): Conv2d(1024, 256, kernel_size=(1, 1), stride=(1, 1), bias=False)\n",
       "      (bn1): BatchNorm2d(256, eps=1e-05, momentum=0.1, affine=True, track_running_stats=True)\n",
       "      (conv2): Conv2d(256, 256, kernel_size=(3, 3), stride=(1, 1), padding=(1, 1), bias=False)\n",
       "      (bn2): BatchNorm2d(256, eps=1e-05, momentum=0.1, affine=True, track_running_stats=True)\n",
       "      (conv3): Conv2d(256, 1024, kernel_size=(1, 1), stride=(1, 1), bias=False)\n",
       "      (bn3): BatchNorm2d(1024, eps=1e-05, momentum=0.1, affine=True, track_running_stats=True)\n",
       "      (relu): ReLU(inplace=True)\n",
       "    )\n",
       "    (11): Bottleneck(\n",
       "      (conv1): Conv2d(1024, 256, kernel_size=(1, 1), stride=(1, 1), bias=False)\n",
       "      (bn1): BatchNorm2d(256, eps=1e-05, momentum=0.1, affine=True, track_running_stats=True)\n",
       "      (conv2): Conv2d(256, 256, kernel_size=(3, 3), stride=(1, 1), padding=(1, 1), bias=False)\n",
       "      (bn2): BatchNorm2d(256, eps=1e-05, momentum=0.1, affine=True, track_running_stats=True)\n",
       "      (conv3): Conv2d(256, 1024, kernel_size=(1, 1), stride=(1, 1), bias=False)\n",
       "      (bn3): BatchNorm2d(1024, eps=1e-05, momentum=0.1, affine=True, track_running_stats=True)\n",
       "      (relu): ReLU(inplace=True)\n",
       "    )\n",
       "    (12): Bottleneck(\n",
       "      (conv1): Conv2d(1024, 256, kernel_size=(1, 1), stride=(1, 1), bias=False)\n",
       "      (bn1): BatchNorm2d(256, eps=1e-05, momentum=0.1, affine=True, track_running_stats=True)\n",
       "      (conv2): Conv2d(256, 256, kernel_size=(3, 3), stride=(1, 1), padding=(1, 1), bias=False)\n",
       "      (bn2): BatchNorm2d(256, eps=1e-05, momentum=0.1, affine=True, track_running_stats=True)\n",
       "      (conv3): Conv2d(256, 1024, kernel_size=(1, 1), stride=(1, 1), bias=False)\n",
       "      (bn3): BatchNorm2d(1024, eps=1e-05, momentum=0.1, affine=True, track_running_stats=True)\n",
       "      (relu): ReLU(inplace=True)\n",
       "    )\n",
       "    (13): Bottleneck(\n",
       "      (conv1): Conv2d(1024, 256, kernel_size=(1, 1), stride=(1, 1), bias=False)\n",
       "      (bn1): BatchNorm2d(256, eps=1e-05, momentum=0.1, affine=True, track_running_stats=True)\n",
       "      (conv2): Conv2d(256, 256, kernel_size=(3, 3), stride=(1, 1), padding=(1, 1), bias=False)\n",
       "      (bn2): BatchNorm2d(256, eps=1e-05, momentum=0.1, affine=True, track_running_stats=True)\n",
       "      (conv3): Conv2d(256, 1024, kernel_size=(1, 1), stride=(1, 1), bias=False)\n",
       "      (bn3): BatchNorm2d(1024, eps=1e-05, momentum=0.1, affine=True, track_running_stats=True)\n",
       "      (relu): ReLU(inplace=True)\n",
       "    )\n",
       "    (14): Bottleneck(\n",
       "      (conv1): Conv2d(1024, 256, kernel_size=(1, 1), stride=(1, 1), bias=False)\n",
       "      (bn1): BatchNorm2d(256, eps=1e-05, momentum=0.1, affine=True, track_running_stats=True)\n",
       "      (conv2): Conv2d(256, 256, kernel_size=(3, 3), stride=(1, 1), padding=(1, 1), bias=False)\n",
       "      (bn2): BatchNorm2d(256, eps=1e-05, momentum=0.1, affine=True, track_running_stats=True)\n",
       "      (conv3): Conv2d(256, 1024, kernel_size=(1, 1), stride=(1, 1), bias=False)\n",
       "      (bn3): BatchNorm2d(1024, eps=1e-05, momentum=0.1, affine=True, track_running_stats=True)\n",
       "      (relu): ReLU(inplace=True)\n",
       "    )\n",
       "    (15): Bottleneck(\n",
       "      (conv1): Conv2d(1024, 256, kernel_size=(1, 1), stride=(1, 1), bias=False)\n",
       "      (bn1): BatchNorm2d(256, eps=1e-05, momentum=0.1, affine=True, track_running_stats=True)\n",
       "      (conv2): Conv2d(256, 256, kernel_size=(3, 3), stride=(1, 1), padding=(1, 1), bias=False)\n",
       "      (bn2): BatchNorm2d(256, eps=1e-05, momentum=0.1, affine=True, track_running_stats=True)\n",
       "      (conv3): Conv2d(256, 1024, kernel_size=(1, 1), stride=(1, 1), bias=False)\n",
       "      (bn3): BatchNorm2d(1024, eps=1e-05, momentum=0.1, affine=True, track_running_stats=True)\n",
       "      (relu): ReLU(inplace=True)\n",
       "    )\n",
       "    (16): Bottleneck(\n",
       "      (conv1): Conv2d(1024, 256, kernel_size=(1, 1), stride=(1, 1), bias=False)\n",
       "      (bn1): BatchNorm2d(256, eps=1e-05, momentum=0.1, affine=True, track_running_stats=True)\n",
       "      (conv2): Conv2d(256, 256, kernel_size=(3, 3), stride=(1, 1), padding=(1, 1), bias=False)\n",
       "      (bn2): BatchNorm2d(256, eps=1e-05, momentum=0.1, affine=True, track_running_stats=True)\n",
       "      (conv3): Conv2d(256, 1024, kernel_size=(1, 1), stride=(1, 1), bias=False)\n",
       "      (bn3): BatchNorm2d(1024, eps=1e-05, momentum=0.1, affine=True, track_running_stats=True)\n",
       "      (relu): ReLU(inplace=True)\n",
       "    )\n",
       "    (17): Bottleneck(\n",
       "      (conv1): Conv2d(1024, 256, kernel_size=(1, 1), stride=(1, 1), bias=False)\n",
       "      (bn1): BatchNorm2d(256, eps=1e-05, momentum=0.1, affine=True, track_running_stats=True)\n",
       "      (conv2): Conv2d(256, 256, kernel_size=(3, 3), stride=(1, 1), padding=(1, 1), bias=False)\n",
       "      (bn2): BatchNorm2d(256, eps=1e-05, momentum=0.1, affine=True, track_running_stats=True)\n",
       "      (conv3): Conv2d(256, 1024, kernel_size=(1, 1), stride=(1, 1), bias=False)\n",
       "      (bn3): BatchNorm2d(1024, eps=1e-05, momentum=0.1, affine=True, track_running_stats=True)\n",
       "      (relu): ReLU(inplace=True)\n",
       "    )\n",
       "    (18): Bottleneck(\n",
       "      (conv1): Conv2d(1024, 256, kernel_size=(1, 1), stride=(1, 1), bias=False)\n",
       "      (bn1): BatchNorm2d(256, eps=1e-05, momentum=0.1, affine=True, track_running_stats=True)\n",
       "      (conv2): Conv2d(256, 256, kernel_size=(3, 3), stride=(1, 1), padding=(1, 1), bias=False)\n",
       "      (bn2): BatchNorm2d(256, eps=1e-05, momentum=0.1, affine=True, track_running_stats=True)\n",
       "      (conv3): Conv2d(256, 1024, kernel_size=(1, 1), stride=(1, 1), bias=False)\n",
       "      (bn3): BatchNorm2d(1024, eps=1e-05, momentum=0.1, affine=True, track_running_stats=True)\n",
       "      (relu): ReLU(inplace=True)\n",
       "    )\n",
       "    (19): Bottleneck(\n",
       "      (conv1): Conv2d(1024, 256, kernel_size=(1, 1), stride=(1, 1), bias=False)\n",
       "      (bn1): BatchNorm2d(256, eps=1e-05, momentum=0.1, affine=True, track_running_stats=True)\n",
       "      (conv2): Conv2d(256, 256, kernel_size=(3, 3), stride=(1, 1), padding=(1, 1), bias=False)\n",
       "      (bn2): BatchNorm2d(256, eps=1e-05, momentum=0.1, affine=True, track_running_stats=True)\n",
       "      (conv3): Conv2d(256, 1024, kernel_size=(1, 1), stride=(1, 1), bias=False)\n",
       "      (bn3): BatchNorm2d(1024, eps=1e-05, momentum=0.1, affine=True, track_running_stats=True)\n",
       "      (relu): ReLU(inplace=True)\n",
       "    )\n",
       "    (20): Bottleneck(\n",
       "      (conv1): Conv2d(1024, 256, kernel_size=(1, 1), stride=(1, 1), bias=False)\n",
       "      (bn1): BatchNorm2d(256, eps=1e-05, momentum=0.1, affine=True, track_running_stats=True)\n",
       "      (conv2): Conv2d(256, 256, kernel_size=(3, 3), stride=(1, 1), padding=(1, 1), bias=False)\n",
       "      (bn2): BatchNorm2d(256, eps=1e-05, momentum=0.1, affine=True, track_running_stats=True)\n",
       "      (conv3): Conv2d(256, 1024, kernel_size=(1, 1), stride=(1, 1), bias=False)\n",
       "      (bn3): BatchNorm2d(1024, eps=1e-05, momentum=0.1, affine=True, track_running_stats=True)\n",
       "      (relu): ReLU(inplace=True)\n",
       "    )\n",
       "    (21): Bottleneck(\n",
       "      (conv1): Conv2d(1024, 256, kernel_size=(1, 1), stride=(1, 1), bias=False)\n",
       "      (bn1): BatchNorm2d(256, eps=1e-05, momentum=0.1, affine=True, track_running_stats=True)\n",
       "      (conv2): Conv2d(256, 256, kernel_size=(3, 3), stride=(1, 1), padding=(1, 1), bias=False)\n",
       "      (bn2): BatchNorm2d(256, eps=1e-05, momentum=0.1, affine=True, track_running_stats=True)\n",
       "      (conv3): Conv2d(256, 1024, kernel_size=(1, 1), stride=(1, 1), bias=False)\n",
       "      (bn3): BatchNorm2d(1024, eps=1e-05, momentum=0.1, affine=True, track_running_stats=True)\n",
       "      (relu): ReLU(inplace=True)\n",
       "    )\n",
       "    (22): Bottleneck(\n",
       "      (conv1): Conv2d(1024, 256, kernel_size=(1, 1), stride=(1, 1), bias=False)\n",
       "      (bn1): BatchNorm2d(256, eps=1e-05, momentum=0.1, affine=True, track_running_stats=True)\n",
       "      (conv2): Conv2d(256, 256, kernel_size=(3, 3), stride=(1, 1), padding=(1, 1), bias=False)\n",
       "      (bn2): BatchNorm2d(256, eps=1e-05, momentum=0.1, affine=True, track_running_stats=True)\n",
       "      (conv3): Conv2d(256, 1024, kernel_size=(1, 1), stride=(1, 1), bias=False)\n",
       "      (bn3): BatchNorm2d(1024, eps=1e-05, momentum=0.1, affine=True, track_running_stats=True)\n",
       "      (relu): ReLU(inplace=True)\n",
       "    )\n",
       "  )\n",
       "  (layer4): Sequential(\n",
       "    (0): Bottleneck(\n",
       "      (conv1): Conv2d(1024, 512, kernel_size=(1, 1), stride=(1, 1), bias=False)\n",
       "      (bn1): BatchNorm2d(512, eps=1e-05, momentum=0.1, affine=True, track_running_stats=True)\n",
       "      (conv2): Conv2d(512, 512, kernel_size=(3, 3), stride=(2, 2), padding=(1, 1), bias=False)\n",
       "      (bn2): BatchNorm2d(512, eps=1e-05, momentum=0.1, affine=True, track_running_stats=True)\n",
       "      (conv3): Conv2d(512, 2048, kernel_size=(1, 1), stride=(1, 1), bias=False)\n",
       "      (bn3): BatchNorm2d(2048, eps=1e-05, momentum=0.1, affine=True, track_running_stats=True)\n",
       "      (relu): ReLU(inplace=True)\n",
       "      (downsample): Sequential(\n",
       "        (0): Conv2d(1024, 2048, kernel_size=(1, 1), stride=(2, 2), bias=False)\n",
       "        (1): BatchNorm2d(2048, eps=1e-05, momentum=0.1, affine=True, track_running_stats=True)\n",
       "      )\n",
       "    )\n",
       "    (1): Bottleneck(\n",
       "      (conv1): Conv2d(2048, 512, kernel_size=(1, 1), stride=(1, 1), bias=False)\n",
       "      (bn1): BatchNorm2d(512, eps=1e-05, momentum=0.1, affine=True, track_running_stats=True)\n",
       "      (conv2): Conv2d(512, 512, kernel_size=(3, 3), stride=(1, 1), padding=(1, 1), bias=False)\n",
       "      (bn2): BatchNorm2d(512, eps=1e-05, momentum=0.1, affine=True, track_running_stats=True)\n",
       "      (conv3): Conv2d(512, 2048, kernel_size=(1, 1), stride=(1, 1), bias=False)\n",
       "      (bn3): BatchNorm2d(2048, eps=1e-05, momentum=0.1, affine=True, track_running_stats=True)\n",
       "      (relu): ReLU(inplace=True)\n",
       "    )\n",
       "    (2): Bottleneck(\n",
       "      (conv1): Conv2d(2048, 512, kernel_size=(1, 1), stride=(1, 1), bias=False)\n",
       "      (bn1): BatchNorm2d(512, eps=1e-05, momentum=0.1, affine=True, track_running_stats=True)\n",
       "      (conv2): Conv2d(512, 512, kernel_size=(3, 3), stride=(1, 1), padding=(1, 1), bias=False)\n",
       "      (bn2): BatchNorm2d(512, eps=1e-05, momentum=0.1, affine=True, track_running_stats=True)\n",
       "      (conv3): Conv2d(512, 2048, kernel_size=(1, 1), stride=(1, 1), bias=False)\n",
       "      (bn3): BatchNorm2d(2048, eps=1e-05, momentum=0.1, affine=True, track_running_stats=True)\n",
       "      (relu): ReLU(inplace=True)\n",
       "    )\n",
       "  )\n",
       "  (avgpool): AdaptiveAvgPool2d(output_size=(1, 1))\n",
       "  (fc): Linear(in_features=2048, out_features=1000, bias=True)\n",
       ")"
      ]
     },
     "execution_count": 31,
     "metadata": {},
     "output_type": "execute_result"
    }
   ],
   "source": [
    "resnet.eval()"
   ]
  },
  {
   "cell_type": "code",
   "execution_count": 37,
   "id": "9ccd17f2-9ab9-4979-a4b8-e9b3d6f12b76",
   "metadata": {},
   "outputs": [
    {
     "name": "stdout",
     "output_type": "stream",
     "text": [
      "torch.Size([1, 1000])\n"
     ]
    }
   ],
   "source": [
    "out = resnet(batch_t)\n",
    "\n",
    "print(out.shape)\n",
    "\n"
   ]
  },
  {
   "cell_type": "code",
   "execution_count": 41,
   "id": "cf49755d-cad9-46ad-a64f-a8cf01038856",
   "metadata": {},
   "outputs": [
    {
     "data": {
      "text/plain": [
       "tensor([[-3.4803, -1.6618, -2.4515, -3.2662, -3.2466, -1.3611, -2.0465, -2.5112,\n",
       "         -1.3043, -2.8900]], grad_fn=<SliceBackward>)"
      ]
     },
     "execution_count": 41,
     "metadata": {},
     "output_type": "execute_result"
    }
   ],
   "source": [
    "out[:,:10]"
   ]
  },
  {
   "cell_type": "code",
   "execution_count": 46,
   "id": "74265bc1-4d6e-4ae8-9e4d-e7c76f7e16f1",
   "metadata": {},
   "outputs": [
    {
     "name": "stdout",
     "output_type": "stream",
     "text": [
      "--2021-05-26 11:30:08--  https://raw.githubusercontent.com/deep-learning-with-pytorch/dlwpt-code/master/data/p1ch2/imagenet_classes.txt\n",
      "Resolving raw.githubusercontent.com (raw.githubusercontent.com)... 185.199.111.133, 185.199.108.133, 185.199.109.133, ...\n",
      "Connecting to raw.githubusercontent.com (raw.githubusercontent.com)|185.199.111.133|:443... connected.\n",
      "HTTP request sent, awaiting response... 200 OK\n",
      "Length: 21674 (21K) [text/plain]\n",
      "Saving to: ‘imagenet_classes.txt’\n",
      "\n",
      "imagenet_classes.tx 100%[===================>]  21.17K  --.-KB/s    in 0.001s  \n",
      "\n",
      "2021-05-26 11:30:08 (16.2 MB/s) - ‘imagenet_classes.txt’ saved [21674/21674]\n",
      "\n"
     ]
    }
   ],
   "source": [
    "!wget https://raw.githubusercontent.com/deep-learning-with-pytorch/dlwpt-code/master/data/p1ch2/imagenet_classes.txt"
   ]
  },
  {
   "cell_type": "code",
   "execution_count": 47,
   "id": "c14dadb7-6e32-4e51-97f6-9ef8cb73771d",
   "metadata": {},
   "outputs": [],
   "source": [
    "with open('imagenet_classes.txt') as f:\n",
    "    labels = [line.strip() for line in f.readlines()]"
   ]
  },
  {
   "cell_type": "code",
   "execution_count": 49,
   "id": "cd92fee7-8936-4d21-994f-4702ad0abb19",
   "metadata": {},
   "outputs": [
    {
     "data": {
      "text/plain": [
       "['tench, Tinca tinca',\n",
       " 'goldfish, Carassius auratus',\n",
       " 'great white shark, white shark, man-eater, man-eating shark, Carcharodon carcharias',\n",
       " 'tiger shark, Galeocerdo cuvieri',\n",
       " 'hammerhead, hammerhead shark',\n",
       " 'electric ray, crampfish, numbfish, torpedo',\n",
       " 'stingray',\n",
       " 'cock',\n",
       " 'hen',\n",
       " 'ostrich, Struthio camelus']"
      ]
     },
     "execution_count": 49,
     "metadata": {},
     "output_type": "execute_result"
    }
   ],
   "source": [
    "labels[:10]"
   ]
  },
  {
   "cell_type": "code",
   "execution_count": 54,
   "id": "a27b09cf-5130-4243-a121-21fe73218b1a",
   "metadata": {},
   "outputs": [],
   "source": [
    "_, index = torch.max(out, 1)"
   ]
  },
  {
   "cell_type": "code",
   "execution_count": 61,
   "id": "0e64c4e2-9f16-410e-a94a-759ac45a7714",
   "metadata": {},
   "outputs": [
    {
     "data": {
      "text/plain": [
       "('golden retriever', 96.29334259033203)"
      ]
     },
     "execution_count": 61,
     "metadata": {},
     "output_type": "execute_result"
    }
   ],
   "source": [
    "percentage = torch.nn.functional.softmax(out, dim=1)[0] * 100 \n",
    "labels[index[0]], percentage[index[0]].item()"
   ]
  },
  {
   "cell_type": "code",
   "execution_count": 62,
   "id": "4c6b74d3-172c-4e68-acd9-7397e78fc6c7",
   "metadata": {},
   "outputs": [
    {
     "data": {
      "text/plain": [
       "[('golden retriever', 96.29334259033203),\n",
       " ('Labrador retriever', 2.80812668800354),\n",
       " ('cocker spaniel, English cocker spaniel, cocker', 0.28267455101013184),\n",
       " ('redbone', 0.20863160490989685),\n",
       " ('tennis ball', 0.11621569097042084)]"
      ]
     },
     "execution_count": 62,
     "metadata": {},
     "output_type": "execute_result"
    }
   ],
   "source": [
    "_, indices = torch.sort(out, descending=True)\n",
    "[(labels[idx], percentage[idx].item()) for idx in indices[0][:5]]"
   ]
  },
  {
   "cell_type": "markdown",
   "id": "4781b979-0fc1-499a-ada4-41cc863c4d4e",
   "metadata": {},
   "source": [
    "# GAN's Horse + Zebras"
   ]
  },
  {
   "cell_type": "markdown",
   "id": "afa83c68-451c-4c58-81ef-1fe4a0c1ef72",
   "metadata": {},
   "source": [
    "![enter image description here](https://github.com/jarvislabsai/PyTorch-Manning-Notes/blob/main/imgs/Gans.png?raw=True)\n"
   ]
  },
  {
   "cell_type": "markdown",
   "id": "ae26b979-7271-4884-b397-4f454c390ad1",
   "metadata": {},
   "source": [
    "## Cycle GANs"
   ]
  },
  {
   "cell_type": "markdown",
   "id": "00966157-0829-41eb-8b33-f3f3373dd379",
   "metadata": {},
   "source": [
    "![enter image description here](https://github.com/jarvislabsai/PyTorch-Manning-Notes/blob/main/imgs/CycleGANs.png?raw=True)\n"
   ]
  },
  {
   "cell_type": "markdown",
   "id": "f67117a4-a779-4b34-a6d1-c9578328ce2d",
   "metadata": {},
   "source": [
    "# Image Captioning "
   ]
  },
  {
   "cell_type": "markdown",
   "id": "625fb1cc-61c3-4fe9-a835-756afa3cdaf3",
   "metadata": {},
   "source": [
    "![enter image description here](https://github.com/jarvislabsai/PyTorch-Manning-Notes/blob/main/imgs/imagecaptioning.png?raw=True)\n",
    "\n"
   ]
  }
 ],
 "metadata": {
  "kernelspec": {
   "display_name": "Python 3",
   "language": "python",
   "name": "python3"
  },
  "language_info": {
   "codemirror_mode": {
    "name": "ipython",
    "version": 3
   },
   "file_extension": ".py",
   "mimetype": "text/x-python",
   "name": "python",
   "nbconvert_exporter": "python",
   "pygments_lexer": "ipython3",
   "version": "3.8.5"
  }
 },
 "nbformat": 4,
 "nbformat_minor": 5
}
